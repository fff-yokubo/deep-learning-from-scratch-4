{
 "cells": [
  {
   "cell_type": "code",
   "execution_count": 1,
   "id": "f9a83982",
   "metadata": {},
   "outputs": [],
   "source": [
    "from bandit import *"
   ]
  },
  {
   "cell_type": "code",
   "execution_count": null,
   "id": "2fd261b6",
   "metadata": {},
   "outputs": [],
   "source": []
  }
 ],
 "metadata": {
  "kernelspec": {
   "display_name": "py312",
   "language": "python",
   "name": "python3"
  },
  "language_info": {
   "codemirror_mode": {
    "name": "ipython",
    "version": 3
   },
   "file_extension": ".py",
   "mimetype": "text/x-python",
   "name": "python",
   "nbconvert_exporter": "python",
   "pygments_lexer": "ipython3",
   "version": "3.12.9"
  }
 },
 "nbformat": 4,
 "nbformat_minor": 5
}
